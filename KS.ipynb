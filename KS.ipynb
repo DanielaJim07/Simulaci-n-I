{
  "nbformat": 4,
  "nbformat_minor": 0,
  "metadata": {
    "colab": {
      "provenance": [],
      "authorship_tag": "ABX9TyPMDD86+iSpjiLgjZSiPO9G",
      "include_colab_link": true
    },
    "kernelspec": {
      "name": "python3",
      "display_name": "Python 3"
    },
    "language_info": {
      "name": "python"
    }
  },
  "cells": [
    {
      "cell_type": "markdown",
      "metadata": {
        "id": "view-in-github",
        "colab_type": "text"
      },
      "source": [
        "<a href=\"https://colab.research.google.com/github/DanielaJim07/Simulaci-n-I/blob/main/KS.ipynb\" target=\"_parent\"><img src=\"https://colab.research.google.com/assets/colab-badge.svg\" alt=\"Open In Colab\"/></a>"
      ]
    },
    {
      "cell_type": "markdown",
      "source": [
        "# **Prueba de Kolmogorov-Smirnov**\n",
        "El test de Kolmogorov-Smirnov (KS) es una prueba estadística no paramétrica utilizada para comparar una muestra con una distribución de referencia o para comparar dos muestras entre sí. Fue desarrollado por los matemáticos Andrey Kolmogorov y Nikolai Smirnov en la primera mitad del siglo XX.\n",
        "\n"
      ],
      "metadata": {
        "id": "mIc_xESnPbY8"
      }
    },
    {
      "cell_type": "markdown",
      "source": [
        "## Importancia\n",
        "Se usa para evaluar si una muestra proviene de una distribución específica (por ejemplo, normal, uniforme, exponencial).\n",
        "En simulaciones, para verificar si los datos generados siguen la distribución deseada.Tambien para la comparación entre dos muestras como el determinar si dos conjuntos de datos provienen de la misma distribución.\n",
        "\n",
        "Aplicado en bioestadística, finanzas, y machine learning para analizar diferencias en distribuciones de datos.\n",
        "Validación de generadores de números aleatorios\n",
        "\n",
        "De igualmanera en criptografía y simulación para verificar que los números generados son verdaderamente aleatorios."
      ],
      "metadata": {
        "id": "zuJ6iDIxSG5a"
      }
    },
    {
      "cell_type": "markdown",
      "source": [
        "## EJERCICIO\n",
        "Elaborar la prueba KS para los siguientes numeros aleatorios con un nivel de aceptacion del 95%"
      ],
      "metadata": {
        "id": "EsPf96HMSyjU"
      }
    },
    {
      "cell_type": "markdown",
      "source": [
        "## Importamos librerias\n",
        "\n",
        "\n",
        "\n",
        "\n",
        "\n",
        "\n",
        "\n",
        "\n"
      ],
      "metadata": {
        "id": "uX30vVewP0du"
      }
    },
    {
      "cell_type": "code",
      "source": [
        "import numpy as np # Para manejar arrays y cálculos matemáticos.\n",
        "\n",
        "from scipy.stats import ks_1samp, ks_2samp, norm # ks_1samp: Función de scipy.stats para la prueba de Kolmogorov-Smirnov de una muestra contra una distribución teórica.\n",
        "#ks_2samp: Función para la prueba de Kolmogorov-Smirnov entre dos muestras.\n",
        "#norm: Proporciona la función de distribución acumulada (CDF) de la distribución normal estándar."
      ],
      "metadata": {
        "id": "sUlmFVdGLkO2"
      },
      "execution_count": 7,
      "outputs": []
    },
    {
      "cell_type": "code",
      "source": [
        "# Numeros del ejercicio\n",
        "muestra = [0.048, 0.926, 0.178, 0.086, 0.157, 0.166, 0.362, 0.368, 0.787, 0.298, 0.591, 0.007, 0.437, 0.594, 0.199, 0.478, 0.551, 0.411, 0.951, 0.401, 0.932, 0.533, 0.545, 0.772, 0.631]"
      ],
      "metadata": {
        "id": "NKxPIw55USbr"
      },
      "execution_count": 8,
      "outputs": []
    },
    {
      "cell_type": "markdown",
      "source": [
        "## Prueba KS"
      ],
      "metadata": {
        "id": "ToQIh5-3XOT0"
      }
    },
    {
      "cell_type": "code",
      "source": [
        "def kolmogorov_smirnov(datos, alpha=0.05):\n",
        "\n",
        "    # Transformamos la muestra a una normal estándar\n",
        "    datos = np.array(datos)\n",
        "    datosestandar = (datos - np.mean(datos)) / np.std(datos, ddof=1)\n",
        "\n",
        "    # Realizar la prueba K-S con la funcion de distribucion acumulada de la normal estándar\n",
        "    D_stat, p_val = ks_1samp(datosestandar, norm.cdf)\n",
        "\n",
        "    # Se evalua la hipótesis nula\n",
        "    if p_val < alpha:\n",
        "        print(f\"Rechazamos la hipótesis nula (p-valor = {p_val:.5f}).\")\n",
        "    else:\n",
        "        print(f\"No se puede rechazar la hipótesis nula (p-valor = {p_val:.5f}).\")\n",
        "\n",
        "    return D_stat, p_val\n",
        "\n",
        "def kolmogorov_smirnov_2(datos1, datos2, alpha=0.05):\n",
        "\n",
        "    # Realizar la prueba K-S para dos muestras\n",
        "    D_stat, p_val = ks_2samp(datos1, datos2)\n",
        "\n",
        "    # Evaluar la hipótesis nula\n",
        "    if p_val < alpha:\n",
        "        print(f\"Rechazamos la hipótesis nula (p-valor = {p_val:.5f}). Las distribuciones son diferentes.\")\n",
        "    else:\n",
        "        print(f\"No se puede rechazar la hipótesis nula (p-valor = {p_val:.5f}). Las distribuciones podrían ser iguales.\")\n",
        "\n",
        "    return D_stat, p_val\n"
      ],
      "metadata": {
        "id": "spr4tznCQypQ"
      },
      "execution_count": 11,
      "outputs": []
    },
    {
      "cell_type": "code",
      "source": [
        "print(\"Prueba KS con distribución normal estándar:\")\n",
        "kolmogorov_smirnov(muestra)\n"
      ],
      "metadata": {
        "colab": {
          "base_uri": "https://localhost:8080/"
        },
        "id": "VBrzpJeuUmol",
        "outputId": "bea1aad4-e362-410a-cca7-dac437eaca86"
      },
      "execution_count": 10,
      "outputs": [
        {
          "output_type": "stream",
          "name": "stdout",
          "text": [
            "Prueba KS con distribución normal estándar:\n",
            "No se puede rechazar la hipótesis nula (p-valor = 0.93252).\n"
          ]
        },
        {
          "output_type": "execute_result",
          "data": {
            "text/plain": [
              "(0.1022535099411423, 0.9325229569858773)"
            ]
          },
          "metadata": {},
          "execution_count": 10
        }
      ]
    }
  ]
}