{
  "nbformat": 4,
  "nbformat_minor": 0,
  "metadata": {
    "colab": {
      "provenance": [],
      "authorship_tag": "ABX9TyNFox95gpzvsNnuGxsKFpLt",
      "include_colab_link": true
    },
    "kernelspec": {
      "name": "python3",
      "display_name": "Python 3"
    },
    "language_info": {
      "name": "python"
    }
  },
  "cells": [
    {
      "cell_type": "markdown",
      "metadata": {
        "id": "view-in-github",
        "colab_type": "text"
      },
      "source": [
        "<a href=\"https://colab.research.google.com/github/DanielaJim07/Simulaci-n-I/blob/main/chi_cuadrada.ipynb\" target=\"_parent\"><img src=\"https://colab.research.google.com/assets/colab-badge.svg\" alt=\"Open In Colab\"/></a>"
      ]
    },
    {
      "cell_type": "markdown",
      "source": [
        "# **Chi cuadrado**\n"
      ],
      "metadata": {
        "id": "kHC_G_OjWHtb"
      }
    },
    {
      "cell_type": "markdown",
      "source": [
        "## Historia\n",
        "La prueba de Chi-cuadrado (χ²) fue desarrollada por Karl Pearson en 1900. Se convirtió en una de las pruebas más importantes en estadística inferencial. Su propósito original era analizar la bondad de ajuste entre datos observados y esperados bajo ciertas hipótesis.\n",
        "\n",
        "Desde su introducción, la prueba ha sido utilizada en diversos campos, incluyendo la genética (para verificar leyes de herencia mendeliana), economía, psicología y estudios de mercado."
      ],
      "metadata": {
        "id": "tB6eVqolWpvs"
      }
    },
    {
      "cell_type": "markdown",
      "source": [
        "## EJERCICIO\n",
        "Elaborar la prueba de ajuste para los siguientes numeros aleatorios con un nivel de aceptacion del 95%"
      ],
      "metadata": {
        "id": "A7I2RuafWvWR"
      }
    },
    {
      "cell_type": "code",
      "source": [
        "import numpy as np\n",
        "import pandas as pd\n",
        "from scipy.stats import chi2\n",
        "\n",
        "# Lista de números pseudoaleatorios proporcionados\n",
        "numeros_pseudoaleatorios = [\n",
        "    0.0449, 0.1733, 0.5746, 0.049, 0.8406, 0.8349, 0.92, 0.2564,\n",
        "    0.6015, 0.6694, 0.3972, 0.7025, 0.1055, 0.1247, 0.1977, 0.0125,\n",
        "    0.63, 0.2531, 0.8297, 0.6483, 0.6972, 0.9582, 0.9085, 0.8524,\n",
        "    0.5514, 0.0316, 0.3587, 0.7041, 0.5915, 0.2523, 0.2545, 0.3044,\n",
        "    0.0207, 0.1067, 0.3857, 0.1746, 0.3362, 0.1589, 0.3727, 0.4145\n",
        "]\n",
        "\n",
        "\n",
        "# Número de intervalos (categorías)\n",
        "intervalos = 5\n",
        "\n",
        "# Definir los límites de los intervalos\n",
        "divisiones = np.linspace(0, 1, intervalos + 1)\n",
        "\n",
        "# Contar la frecuencia observada en cada intervalo\n",
        "frecuencia_observada, _ = np.histogram(numeros_pseudoaleatorios, bins=divisiones)\n",
        "\n",
        "# Frecuencia esperada (Fe) para cada categoría, asumiendo una distribución uniforme\n",
        "frecuencia_esperada = [len(numeros_pseudoaleatorios) / intervalos] * intervalos\n",
        "\n",
        "# Calcular Chi-cuadrado\n",
        "chi_cuadrado = sum(((fo - fe) ** 2) / fe for fo, fe in zip(frecuencia_observada, frecuencia_esperada))\n",
        "\n",
        "# Grados de libertad\n",
        "gl = intervalos - 1\n",
        "\n",
        "# Valor crítico de Chi-cuadrado con 95% de confianza\n",
        "valor_critico = chi2.ppf(0.95, gl)\n",
        "\n",
        "# Crear un DataFrame con los datos\n",
        "df = pd.DataFrame({\n",
        "    'Categoría': [f'{divisiones[i]:.2f} - {divisiones[i+1]:.2f}' for i in range(intervalos)],\n",
        "    'Frecuencia Esperada (Fe)': frecuencia_esperada,\n",
        "    'Frecuencia Observada (Fo)': frecuencia_observada,\n",
        "    'Chi-cuadrado': [((fo - fe) ** 2) / fe for fo, fe in zip(frecuencia_observada, frecuencia_esperada)]\n",
        "})\n",
        "\n",
        "# Mostrar la tabla\n",
        "print(df)\n",
        "print(f'\\nValor de Chi-cuadrado calculado: {chi_cuadrado:.5f}')\n",
        "print(f'Valor crítico de Chi-cuadrado (95% confianza): {valor_critico:.5f}')\n",
        "\n",
        "# Evaluar la hipótesis nula\n",
        "if chi_cuadrado > valor_critico:\n",
        "    print(\"Rechazamos la hipótesis nula: Los datos no siguen una distribución uniforme.\")\n",
        "else:\n",
        "    print(\"No se puede rechazar la hipótesis nula: Los datos pueden seguir una distribución uniforme.\")\n"
      ],
      "metadata": {
        "colab": {
          "base_uri": "https://localhost:8080/"
        },
        "id": "sKkFgghHO0ji",
        "outputId": "b9a0d3dd-4373-427b-85e9-ec0608f67c4c"
      },
      "execution_count": null,
      "outputs": [
        {
          "output_type": "stream",
          "name": "stdout",
          "text": [
            "     Categoría  Frecuencia Esperada (Fe)  Frecuencia Observada (Fo)  \\\n",
            "0  0.00 - 0.20                       8.0                         12   \n",
            "1  0.20 - 0.40                       8.0                         10   \n",
            "2  0.40 - 0.60                       8.0                          4   \n",
            "3  0.60 - 0.80                       8.0                          7   \n",
            "4  0.80 - 1.00                       8.0                          7   \n",
            "\n",
            "   Chi-cuadrado  \n",
            "0         2.000  \n",
            "1         0.500  \n",
            "2         2.000  \n",
            "3         0.125  \n",
            "4         0.125  \n",
            "\n",
            "Valor de Chi-cuadrado calculado: 4.75000\n",
            "Valor crítico de Chi-cuadrado (95% confianza): 9.48773\n",
            "No se puede rechazar la hipótesis nula: Los datos pueden seguir una distribución uniforme.\n"
          ]
        }
      ]
    }
  ]
}