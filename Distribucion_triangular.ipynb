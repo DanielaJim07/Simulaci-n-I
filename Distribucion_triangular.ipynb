{
  "nbformat": 4,
  "nbformat_minor": 0,
  "metadata": {
    "colab": {
      "provenance": [],
      "authorship_tag": "ABX9TyPdp6a5Y00MLbBuvmtYXFHC",
      "include_colab_link": true
    },
    "kernelspec": {
      "name": "python3",
      "display_name": "Python 3"
    },
    "language_info": {
      "name": "python"
    }
  },
  "cells": [
    {
      "cell_type": "markdown",
      "metadata": {
        "id": "view-in-github",
        "colab_type": "text"
      },
      "source": [
        "<a href=\"https://colab.research.google.com/github/DanielaJim07/Simulaci-n-I/blob/main/Distribucion_triangular.ipynb\" target=\"_parent\"><img src=\"https://colab.research.google.com/assets/colab-badge.svg\" alt=\"Open In Colab\"/></a>"
      ]
    },
    {
      "cell_type": "markdown",
      "source": [
        "#TRANSFORMADA INVERSA PARA DISTRIBUCION TRIANGULAR\n",
        "\n",
        "\n"
      ],
      "metadata": {
        "id": "5QfiP8xi2uEe"
      }
    },
    {
      "cell_type": "markdown",
      "source": [
        "El método de la transformada inversa permite generar valores aleatorios a partir de una distribución de probabilidad conocida, utilizando una variable aleatoria R∈(0,1) .\n",
        "\n",
        "En el caso de la distribución triangular con parámetros  a < b < c , su función de distribución acumulada (CDF) es:\n",
        "\n",
        "\n",
        "F(x) =\n",
        "\\begin{cases}\n",
        "0 & x < a \\\\\n",
        "\\frac{(x - a)^2}{(b - a)(c - a)} & a \\leq x \\leq b \\\\\n",
        "1 - \\frac{(c - x)^2}{(c - a)(c - b)} & b < x \\leq c \\\\\n",
        "1 & x > c\n",
        "\\end{cases}\n",
        "\n",
        "Para obtener un valor aleatorio \\( x \\) con esta distribución, se genera un número uniforme R ∈ (0,1)  y se resuelve F(x) = R  según el tramo:\n",
        "\n",
        "\\\n",
        "x =\n",
        "\\begin{cases}\n",
        "a + \\sqrt{R (b - a)(c - a)} & \\text{si } R < \\frac{b - a}{c - a} \\\\\n",
        "c - \\sqrt{(1 - R)(c - b)(c - a)} & \\text{si } R \\geq \\frac{b - a}{c - a}\n",
        "\\end{cases}\n",
        "\n"
      ],
      "metadata": {
        "id": "gT4s6FWl4H3S"
      }
    },
    {
      "cell_type": "markdown",
      "source": [
        "#Usos\n",
        "La distribución triangular se utiliza generalmente para modelar procesos estocásticos o de riesgo comercial. Por ejemplo, la recolección de datos para determinar el costo de construcción de un edificio nuevo resulta difícil. Sin embargo, usted puede estimar los costos de construcción mínimos, máximos y más probables (moda). Es fácil definir y explicar estos valores, que son una representación razonable de los datos."
      ],
      "metadata": {
        "id": "Qs2TQpQJ4eiU"
      }
    },
    {
      "cell_type": "code",
      "source": [
        "#Importamos las librerias necesarias\n",
        "import numpy as np\n",
        "import matplotlib.pyplot as plt\n",
        "from random import random\n",
        "import math\n",
        "\n"
      ],
      "metadata": {
        "id": "8fvY78TWx3aB"
      },
      "execution_count": 2,
      "outputs": []
    },
    {
      "cell_type": "code",
      "source": [
        "# Parámetros de la distribución triangular\n",
        "a = 1  # Valor mínimo\n",
        "b = 3  # Moda (valor más probable)\n",
        "c = 5  # Valor máximo\n",
        "\n"
      ],
      "metadata": {
        "id": "VmQOXGFKx6iY"
      },
      "execution_count": 3,
      "outputs": []
    },
    {
      "cell_type": "markdown",
      "source": [
        "Definimos la funcion de densidad y la función de densidad acumulada"
      ],
      "metadata": {
        "id": "O_7J3XgE3HTh"
      }
    },
    {
      "cell_type": "code",
      "source": [
        "# Función que genera 'n' valores con distribución triangular usando el método de la transformada inversa\n",
        "def triangular(n):\n",
        "    x = []\n",
        "    for i in range(n):\n",
        "        R = random()  # Número aleatorio uniforme entre 0 y 1\n",
        "        F = (b - a) / (c - a)  # Punto de inflexión en la CDF (valor de F en x = b)\n",
        "\n",
        "        if R < F:\n",
        "            # Región creciente de la CDF: usamos la inversa de F(x) para a <= x <= b\n",
        "            x.append(a + math.sqrt(R * (c - a) * (b - a)))\n",
        "        else:\n",
        "            # Región decreciente de la CDF: usamos la inversa para b < x <= c\n",
        "            x.append(c - math.sqrt((1 - R) * (c - a) * (c - b)))\n",
        "    return x\n"
      ],
      "metadata": {
        "id": "_lQ9wrdG0age"
      },
      "execution_count": 7,
      "outputs": []
    },
    {
      "cell_type": "code",
      "source": [
        "# Usamos la función definida para generar 100,000 muestras\n",
        "dd = triangular(100000)\n",
        "plt.hist(dd, bins=50, color=\"lightblue\", alpha=0.6, label=\"Transformada inversa\")\n",
        "\n"
      ],
      "metadata": {
        "colab": {
          "base_uri": "https://localhost:8080/",
          "height": 742
        },
        "id": "Yot3CNOKklEP",
        "outputId": "7c6371e5-1d4d-4113-f541-122df1e95b65"
      },
      "execution_count": 9,
      "outputs": [
        {
          "output_type": "execute_result",
          "data": {
            "text/plain": [
              "(array([  95.,  239.,  421.,  560.,  719.,  882., 1050., 1189., 1364.,\n",
              "        1556., 1710., 1792., 2032., 2159., 2357., 2409., 2689., 2742.,\n",
              "        2980., 3129., 3302., 3442., 3669., 3715., 3903., 3892., 3753.,\n",
              "        3574., 3430., 3281., 3158., 2945., 2691., 2609., 2506., 2278.,\n",
              "        2174., 1959., 1902., 1684., 1479., 1364., 1222., 1047.,  902.,\n",
              "         754.,  558.,  392.,  247.,   94.]),\n",
              " array([1.00697102, 1.08677335, 1.16657567, 1.24637799, 1.32618032,\n",
              "        1.40598264, 1.48578497, 1.56558729, 1.64538962, 1.72519194,\n",
              "        1.80499426, 1.88479659, 1.96459891, 2.04440124, 2.12420356,\n",
              "        2.20400589, 2.28380821, 2.36361054, 2.44341286, 2.52321518,\n",
              "        2.60301751, 2.68281983, 2.76262216, 2.84242448, 2.92222681,\n",
              "        3.00202913, 3.08183145, 3.16163378, 3.2414361 , 3.32123843,\n",
              "        3.40104075, 3.48084308, 3.5606454 , 3.64044772, 3.72025005,\n",
              "        3.80005237, 3.8798547 , 3.95965702, 4.03945935, 4.11926167,\n",
              "        4.19906399, 4.27886632, 4.35866864, 4.43847097, 4.51827329,\n",
              "        4.59807562, 4.67787794, 4.75768026, 4.83748259, 4.91728491,\n",
              "        4.99708724]),\n",
              " <BarContainer object of 50 artists>)"
            ]
          },
          "metadata": {},
          "execution_count": 9
        },
        {
          "output_type": "display_data",
          "data": {
            "text/plain": [
              "<Figure size 640x480 with 1 Axes>"
            ],
            "image/png": "[encoded data removed]"
          },
          "metadata": {}
        }
      ]
    },
    {
      "cell_type": "code",
      "source": [
        "# Estadísticas básicas de las muestras generadas\n",
        "print(\"Media (inversa):\", np.mean(dd))\n",
        "print(\"Varianza (inversa):\", np.var(dd))\n",
        "print(\"Tamaño:\", len(dd))\n",
        "\n"
      ],
      "metadata": {
        "colab": {
          "base_uri": "https://localhost:8080/"
        },
        "id": "LhP4GDqt1tQ3",
        "outputId": "8dd87a47-35f6-4bb7-b687-93ef80b708e6"
      },
      "execution_count": 10,
      "outputs": [
        {
          "output_type": "stream",
          "name": "stdout",
          "text": [
            "Media (inversa): 3.001205825583345\n",
            "Varianza (inversa): 0.6669606738082244\n",
            "Tamaño: 100000\n"
          ]
        }
      ]
    },
    {
      "cell_type": "markdown",
      "source": [
        "Usando la funcion en Python Numpy para densidad triangular"
      ],
      "metadata": {
        "id": "61-UNitf3RpH"
      }
    },
    {
      "cell_type": "code",
      "source": [
        "# Usamos la función de Numpy para comparar (genera directamente triangular)\n",
        "gg = np.random.triangular(a, b, c, 100000)\n",
        "plt.hist(gg, bins=50, color=\"lightpink\", alpha=0.6, label=\"np.random.triangular\")\n"
      ],
      "metadata": {
        "colab": {
          "base_uri": "https://localhost:8080/",
          "height": 742
        },
        "id": "IDsBMUIDmdBS",
        "outputId": "4cc6cc47-0aa8-4c68-ee5d-8ff360f129e9"
      },
      "execution_count": 11,
      "outputs": [
        {
          "output_type": "execute_result",
          "data": {
            "text/plain": [
              "(array([  89.,  264.,  380.,  589.,  768.,  885., 1093., 1178., 1387.,\n",
              "        1540., 1742., 1925., 1972., 2210., 2284., 2455., 2628., 2841.,\n",
              "        2994., 3165., 3249., 3465., 3607., 3707., 3816., 3991., 3725.,\n",
              "        3484., 3356., 3267., 3036., 2958., 2799., 2642., 2490., 2278.,\n",
              "        2189., 2046., 1849., 1694., 1549., 1334., 1201., 1015.,  864.,\n",
              "         709.,  530.,  409.,  250.,  102.]),\n",
              " array([1.00496431, 1.08470152, 1.16443873, 1.24417594, 1.32391315,\n",
              "        1.40365036, 1.48338757, 1.56312478, 1.64286199, 1.7225992 ,\n",
              "        1.80233641, 1.88207362, 1.96181083, 2.04154804, 2.12128526,\n",
              "        2.20102247, 2.28075968, 2.36049689, 2.4402341 , 2.51997131,\n",
              "        2.59970852, 2.67944573, 2.75918294, 2.83892015, 2.91865736,\n",
              "        2.99839457, 3.07813178, 3.15786899, 3.2376062 , 3.31734341,\n",
              "        3.39708062, 3.47681783, 3.55655505, 3.63629226, 3.71602947,\n",
              "        3.79576668, 3.87550389, 3.9552411 , 4.03497831, 4.11471552,\n",
              "        4.19445273, 4.27418994, 4.35392715, 4.43366436, 4.51340157,\n",
              "        4.59313878, 4.67287599, 4.7526132 , 4.83235041, 4.91208762,\n",
              "        4.99182484]),\n",
              " <BarContainer object of 50 artists>)"
            ]
          },
          "metadata": {},
          "execution_count": 11
        },
        {
          "output_type": "display_data",
          "data": {
            "text/plain": [
              "<Figure size 640x480 with 1 Axes>"
            ],
            "image/png": "[encoded data removed]"
          },
          "metadata": {}
        }
      ]
    },
    {
      "cell_type": "code",
      "source": [
        "# Estadísticas de la función de Numpy\n",
        "print(\"Media (np):\", np.mean(gg))\n",
        "print(\"Varianza (np):\", np.var(gg))\n",
        "print(\"Tamaño:\", len(gg))"
      ],
      "metadata": {
        "colab": {
          "base_uri": "https://localhost:8080/"
        },
        "id": "REvEFHWkmjft",
        "outputId": "614b1416-e189-41cd-ecab-0e0b9a91cc0e"
      },
      "execution_count": 12,
      "outputs": [
        {
          "output_type": "stream",
          "name": "stdout",
          "text": [
            "Media (np): 2.993215947946627\n",
            "Varianza (np): 0.6682175535648944\n",
            "Tamaño: 100000\n"
          ]
        }
      ]
    }
  ]
}