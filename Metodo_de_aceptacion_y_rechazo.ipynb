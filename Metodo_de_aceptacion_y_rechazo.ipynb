{
  "nbformat": 4,
  "nbformat_minor": 0,
  "metadata": {
    "colab": {
      "provenance": [],
      "authorship_tag": "ABX9TyMwAQqDBOoLHClyEO7Gk63Z",
      "include_colab_link": true
    },
    "kernelspec": {
      "name": "python3",
      "display_name": "Python 3"
    },
    "language_info": {
      "name": "python"
    }
  },
  "cells": [
    {
      "cell_type": "markdown",
      "metadata": {
        "id": "view-in-github",
        "colab_type": "text"
      },
      "source": [
        "<a href=\"https://colab.research.google.com/github/DanielaJim07/Simulaci-n-I/blob/main/Metodo_de_aceptacion_y_rechazo.ipynb\" target=\"_parent\"><img src=\"https://colab.research.google.com/assets/colab-badge.svg\" alt=\"Open In Colab\"/></a>"
      ]
    },
    {
      "cell_type": "markdown",
      "source": [
        "Método de las 12 uniformes"
      ],
      "metadata": {
        "id": "TiDCAUDw6NOq"
      }
    },
    {
      "cell_type": "code",
      "execution_count": 5,
      "metadata": {
        "id": "us3VCAgZ0ge3"
      },
      "outputs": [],
      "source": [
        "import random as rd\n",
        "import numpy as np\n",
        "import matplotlib.pyplot as plt"
      ]
    },
    {
      "cell_type": "code",
      "source": [
        "m=2\n",
        "v=3"
      ],
      "metadata": {
        "id": "Kox1jwKI-TyA"
      },
      "execution_count": 15,
      "outputs": []
    },
    {
      "cell_type": "code",
      "source": [
        "import random\n",
        "\n",
        "x = []\n",
        "\n",
        "\n",
        "def f(n):\n",
        "  for _ in range(i):\n",
        "    valor = m + v * (sum([random.random() for _ in range(12)]) - 6)\n",
        "    x.append(valor)\n",
        "\n",
        "  return x\n"
      ],
      "metadata": {
        "id": "uFMAACU9EMXB"
      },
      "execution_count": 65,
      "outputs": []
    },
    {
      "cell_type": "code",
      "source": [
        "dd= f(10000)\n"
      ],
      "metadata": {
        "id": "T8B8frW2-pP7"
      },
      "execution_count": 69,
      "outputs": []
    },
    {
      "cell_type": "code",
      "source": [
        "from math import sqrt\n",
        "def f(x):\n",
        "  return 1/v*sqrt(2*np.pi)*np.exp(-1/2*(((x-m)/v)**2))\n",
        "\n"
      ],
      "metadata": {
        "id": "ZjJKHWcB9ZqH"
      },
      "execution_count": 20,
      "outputs": []
    },
    {
      "cell_type": "code",
      "source": [
        "plt.hist(dd, bins=50)\n",
        "plt.show()"
      ],
      "metadata": {
        "colab": {
          "base_uri": "https://localhost:8080/",
          "height": 430
        },
        "id": "7MavkimK-yfv",
        "outputId": "0fa68e52-6475-4a48-dace-410b325110c6"
      },
      "execution_count": 70,
      "outputs": [
        {
          "output_type": "display_data",
          "data": {
            "text/plain": [
              "<Figure size 640x480 with 1 Axes>"
            ],
            "image/png": "[encoded data removed]"
          },
          "metadata": {}
        }
      ]
    }
  ]
}