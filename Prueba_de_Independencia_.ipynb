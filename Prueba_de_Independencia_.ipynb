{
  "nbformat": 4,
  "nbformat_minor": 0,
  "metadata": {
    "colab": {
      "provenance": [],
      "authorship_tag": "ABX9TyPN/eHE8eeVYCLGV2XZRenJ",
      "include_colab_link": true
    },
    "kernelspec": {
      "name": "python3",
      "display_name": "Python 3"
    },
    "language_info": {
      "name": "python"
    }
  },
  "cells": [
    {
      "cell_type": "markdown",
      "metadata": {
        "id": "view-in-github",
        "colab_type": "text"
      },
      "source": [
        "<a href=\"https://colab.research.google.com/github/DanielaJim07/Simulaci-n-I/blob/main/Prueba_de_Independencia_.ipynb\" target=\"_parent\"><img src=\"https://colab.research.google.com/assets/colab-badge.svg\" alt=\"Open In Colab\"/></a>"
      ]
    },
    {
      "cell_type": "code",
      "execution_count": 24,
      "metadata": {
        "colab": {
          "base_uri": "https://localhost:8080/"
        },
        "id": "Bc43HPMTn8Ol",
        "outputId": "1f63931a-140a-4330-a344-1d85f8c1d755"
      },
      "outputs": [
        {
          "output_type": "execute_result",
          "data": {
            "text/plain": [
              "(16,\n",
              " 16.666666666666668,\n",
              " 2.030325644378808,\n",
              " -1.6448536269514729,\n",
              " (3.339588500049069, -3.339588500049069))"
            ]
          },
          "metadata": {},
          "execution_count": 24
        }
      ],
      "source": [
        "import numpy as np\n",
        "from scipy.stats import norm\n",
        "\n",
        "# Definir la matriz de datos como un vector unidimensional\n",
        "data =np.array ([ 0.048, 0.926, 0.368, 0.787, 0.298, 0.591, 0.007, 0.437, 0.594, 0.199,\n",
        "                  0.478, 0.551, 0.178, 0.086, 0.157, 0.166, 0.362, 0.411, 0.951, 0.401,\n",
        "                  0.932, 0.533, 0.545, 0.772, 0.631])\n",
        "\n",
        "# Función para generar la secuencia de 0 y 1\n",
        "def generar_secuencia(data):\n",
        "    secuencia = np.zeros(len(data), dtype=int)\n",
        "    for i in range(1, len(data)-1):\n",
        "        if data[i] < data[i - 1]:\n",
        "            secuencia[i] = 0\n",
        "        elif data[i] > data[i + 1]:\n",
        "            secuencia[i] = 1\n",
        "    return secuencia\n",
        "\n",
        "# Generar la secuencia de 0 y 1\n",
        "secuencia_binaria = generar_secuencia(data)\n",
        "\n",
        "# Contar el número de corridas\n",
        "def contar_corridas(secuencia):\n",
        "    corridas = 0\n",
        "    for i in range(0, len(secuencia)):\n",
        "        if secuencia[i] != secuencia[i - 1]:  # Cambio de 0 a 1 o viceversa\n",
        "            corridas += 1\n",
        "    return corridas\n",
        "\n",
        "# Calcular el número de corridas\n",
        "num_corridas = contar_corridas(secuencia_binaria)\n",
        "\n",
        "# Calcular proporciones de 0s y 1s\n",
        "n0 = np.sum(secuencia_binaria == 0)\n",
        "n1 = np.sum(secuencia_binaria == 1)\n",
        "N = len(secuencia_binaria)\n",
        "\n",
        "# Calcular el valor esperado y la varianza de las corridas\n",
        "valor_esperado = ((2 * (n0 + n1) / 3))\n",
        "varianza = ((16*(n0 + n1)-29 ) / 90)\n",
        "var= np.sqrt(varianza)\n",
        "# Calcular el intervalo de aceptación para 95% de confianza\n",
        "z_alpha = norm.ppf(0.05)  # Valor z para 95% de confianza\n",
        "lim_inf = - z_alpha * np.sqrt(varianza)\n",
        "lim_sup =  + z_alpha * np.sqrt(varianza)\n",
        "\n",
        "# Imprimir resultados\n",
        "num_corridas, valor_esperado, var,z_alpha, (lim_inf, lim_sup)\n"
      ]
    }
  ]
}