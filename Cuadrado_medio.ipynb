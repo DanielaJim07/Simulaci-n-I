{
  "nbformat": 4,
  "nbformat_minor": 0,
  "metadata": {
    "colab": {
      "provenance": [],
      "authorship_tag": "ABX9TyN50bAXd1UVzC+DHjnMC4PC",
      "include_colab_link": true
    },
    "kernelspec": {
      "name": "python3",
      "display_name": "Python 3"
    },
    "language_info": {
      "name": "python"
    }
  },
  "cells": [
    {
      "cell_type": "markdown",
      "metadata": {
        "id": "view-in-github",
        "colab_type": "text"
      },
      "source": [
        "<a href=\"https://colab.research.google.com/github/DanielaJim07/Simulaci-n-I/blob/main/Cuadrado_medio.ipynb\" target=\"_parent\"><img src=\"https://colab.research.google.com/assets/colab-badge.svg\" alt=\"Open In Colab\"/></a>"
      ]
    },
    {
      "cell_type": "markdown",
      "source": [
        "#Cuadrado Medio"
      ],
      "metadata": {
        "id": "l5OuVt1GjSVO"
      }
    },
    {
      "cell_type": "markdown",
      "source": [
        "El método del cuadrado medio es un algoritmo que genera números pseudoaleatorios. Se basa en elevar al cuadrado un número al azar y tomar los dígitos del medio del resultado como la siguiente semilla para el algoritmo."
      ],
      "metadata": {
        "id": "BIQMgfdslD49"
      }
    },
    {
      "cell_type": "markdown",
      "source": [
        "## Pasos"
      ],
      "metadata": {
        "id": "znpFe-cPleV9"
      }
    },
    {
      "cell_type": "markdown",
      "source": [
        "\n",
        "\n",
        "1.   Elegir un número al azar\n",
        "2.   Elevar el número al cuadrado\n",
        "3. Si el resultado no tiene 4n cifras, agregar ceros a la izquierda para que lo tenga\n",
        "4. Tomar los dígitos del medio del resultado como la siguiente semilla"
      ],
      "metadata": {
        "id": "Zku-6KkKlkGM"
      }
    },
    {
      "cell_type": "code",
      "source": [
        "from tabulate import tabulate"
      ],
      "metadata": {
        "id": "Z7foKxDejWhG"
      },
      "execution_count": 14,
      "outputs": []
    },
    {
      "cell_type": "code",
      "source": [
        "def cudmed(numero):\n",
        "    historial = []  # Lista para almacenar los valores obtenidos en cada paso\n",
        "    iteracion = 1  # Contador de iteraciones\n",
        "    while numero is not None and numero > 9:  # Repetimos mientras el número tenga más de un dígito\n",
        "        cuadrado = numero ** 2  # Elevar al cuadrado\n",
        "        cuadrado_str = str(cuadrado)  # Convertir a string para manipular los dígitos\n",
        "        numlen = len(cuadrado_str)  # Obtener la longitud\n",
        "\n",
        "        # Extraer dígitos intermedios\n",
        "        if numlen > 2:\n",
        "            if numlen % 2 == 0:\n",
        "                resul = cuadrado_str[2:-2]\n",
        "            else:\n",
        "                resul = cuadrado_str[1:-2]\n",
        "        else:\n",
        "            resul = cuadrado_str  # Si el número tiene 1 o 2 dígitos, tomamos todo\n",
        "             # Convertimos el resultado a número o detenemos si queda vacío\n",
        "        nuevo_numero = int(resul) if resul else None\n",
        "\n",
        "        # Normalización: n / (n² + 1)\n",
        "        normalizado = round(numero / (cuadrado + 1), 6)  # Redondeamos a seis decimales\n",
        "\n",
        "        # Guardamos en la lista para la tabla\n",
        "        historial.append([iteracion, numero, cuadrado, nuevo_numero, normalizado])\n",
        "\n",
        "        # Actualizamos para la siguiente iteración\n",
        "        numero = nuevo_numero\n",
        "        iteracion += 1\n",
        "\n",
        "    # Imprimir la tabla con los resultados\n",
        "    headers = [\"Iteración\", \"Número Inicial\", \"Cuadrado\", \"Nuevo Número\", \"Normalizado\"]\n",
        "    print(tabulate(historial, headers=headers, tablefmt=\"grid\"))\n",
        "\n",
        "    # Imprimir la longitud del ciclo\n",
        "    print(f\"\\nLongitud del ciclo: {len(historial)}\")\n",
        "\n",
        "    return numero\n",
        "\n",
        "# Número inicial\n",
        "numero_inicial = 9198\n",
        "\n",
        "\n",
        "resultado_final = cudmed(numero_inicial)\n",
        "print(\"\\nResultado final:\", resultado_final)\n",
        "\n",
        "\n"
      ],
      "metadata": {
        "colab": {
          "base_uri": "https://localhost:8080/"
        },
        "id": "55w1v6gqifGw",
        "outputId": "e4c43b6d-6c0a-4215-d72e-badba3dba690"
      },
      "execution_count": 38,
      "outputs": [
        {
          "output_type": "stream",
          "name": "stdout",
          "text": [
            "+-------------+------------------+------------+----------------+---------------+\n",
            "|   Iteración |   Número Inicial |   Cuadrado |   Nuevo Número |   Normalizado |\n",
            "+=============+==================+============+================+===============+\n",
            "|           1 |             9198 |   84603204 |           6032 |      0.000109 |\n",
            "+-------------+------------------+------------+----------------+---------------+\n",
            "|           2 |             6032 |   36385024 |           3850 |      0.000166 |\n",
            "+-------------+------------------+------------+----------------+---------------+\n",
            "|           3 |             3850 |   14822500 |           8225 |      0.00026  |\n",
            "+-------------+------------------+------------+----------------+---------------+\n",
            "|           4 |             8225 |   67650625 |           6506 |      0.000122 |\n",
            "+-------------+------------------+------------+----------------+---------------+\n",
            "|           5 |             6506 |   42328036 |           3280 |      0.000154 |\n",
            "+-------------+------------------+------------+----------------+---------------+\n",
            "|           6 |             3280 |   10758400 |           7584 |      0.000305 |\n",
            "+-------------+------------------+------------+----------------+---------------+\n",
            "|           7 |             7584 |   57517056 |           5170 |      0.000132 |\n",
            "+-------------+------------------+------------+----------------+---------------+\n",
            "|           8 |             5170 |   26728900 |           7289 |      0.000193 |\n",
            "+-------------+------------------+------------+----------------+---------------+\n",
            "|           9 |             7289 |   53129521 |           1295 |      0.000137 |\n",
            "+-------------+------------------+------------+----------------+---------------+\n",
            "|          10 |             1295 |    1677025 |           6770 |      0.000772 |\n",
            "+-------------+------------------+------------+----------------+---------------+\n",
            "|          11 |             6770 |   45832900 |           8329 |      0.000148 |\n",
            "+-------------+------------------+------------+----------------+---------------+\n",
            "|          12 |             8329 |   69372241 |           3722 |      0.00012  |\n",
            "+-------------+------------------+------------+----------------+---------------+\n",
            "|          13 |             3722 |   13853284 |           8532 |      0.000269 |\n",
            "+-------------+------------------+------------+----------------+---------------+\n",
            "|          14 |             8532 |   72795024 |           7950 |      0.000117 |\n",
            "+-------------+------------------+------------+----------------+---------------+\n",
            "|          15 |             7950 |   63202500 |           2025 |      0.000126 |\n",
            "+-------------+------------------+------------+----------------+---------------+\n",
            "|          16 |             2025 |    4100625 |           1006 |      0.000494 |\n",
            "+-------------+------------------+------------+----------------+---------------+\n",
            "|          17 |             1006 |    1012036 |            120 |      0.000994 |\n",
            "+-------------+------------------+------------+----------------+---------------+\n",
            "|          18 |              120 |      14400 |             44 |      0.008333 |\n",
            "+-------------+------------------+------------+----------------+---------------+\n",
            "|          19 |               44 |       1936 |                |      0.022716 |\n",
            "+-------------+------------------+------------+----------------+---------------+\n",
            "\n",
            "Longitud del ciclo: 19\n",
            "\n",
            "Resultado final: None\n"
          ]
        }
      ]
    }
  ]
}