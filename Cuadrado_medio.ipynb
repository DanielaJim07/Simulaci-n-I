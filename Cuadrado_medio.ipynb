{
  "nbformat": 4,
  "nbformat_minor": 0,
  "metadata": {
    "colab": {
      "provenance": [],
      "authorship_tag": "ABX9TyOx8eC/M9gHSdTcfDI6zSL9",
      "include_colab_link": true
    },
    "kernelspec": {
      "name": "python3",
      "display_name": "Python 3"
    },
    "language_info": {
      "name": "python"
    }
  },
  "cells": [
    {
      "cell_type": "markdown",
      "metadata": {
        "id": "view-in-github",
        "colab_type": "text"
      },
      "source": [
        "<a href=\"https://colab.research.google.com/github/DanielaJim07/Simulaci-n-I/blob/main/Cuadrado_medio.ipynb\" target=\"_parent\"><img src=\"https://colab.research.google.com/assets/colab-badge.svg\" alt=\"Open In Colab\"/></a>"
      ]
    },
    {
      "cell_type": "markdown",
      "source": [
        "#Cuadrado Medio"
      ],
      "metadata": {
        "id": "l5OuVt1GjSVO"
      }
    },
    {
      "cell_type": "markdown",
      "source": [
        "El método del cuadrado medio es un algoritmo que genera números pseudoaleatorios. Se basa en elevar al cuadrado un número al azar y tomar los dígitos del medio del resultado como la siguiente semilla para el algoritmo."
      ],
      "metadata": {
        "id": "BIQMgfdslD49"
      }
    },
    {
      "cell_type": "markdown",
      "source": [
        "## Pasos"
      ],
      "metadata": {
        "id": "znpFe-cPleV9"
      }
    },
    {
      "cell_type": "markdown",
      "source": [
        "\n",
        "\n",
        "1.   Elegir un número al azar\n",
        "2.   Elevar el número al cuadrado\n",
        "3. Tomar los dígitos del medio del resultado como la siguiente semilla"
      ],
      "metadata": {
        "id": "Zku-6KkKlkGM"
      }
    },
    {
      "cell_type": "code",
      "source": [
        "from tabulate import tabulate"
      ],
      "metadata": {
        "id": "Z7foKxDejWhG"
      },
      "execution_count": 6,
      "outputs": []
    },
    {
      "cell_type": "code",
      "source": [
        "def cudmed(numero):\n",
        "    historial = []  # Lista para almacenar los valores obtenidos en cada paso\n",
        "    iteracion = 1  # Contador de iteraciones\n",
        "    while numero is not None and numero > 9:  # Repetimos mientras el número tenga más de un dígito\n",
        "        cuadrado = numero ** 2  # Elevar al cuadrado\n",
        "        cuadrado_str = str(cuadrado)  # Convertir a string para manipular los dígitos\n",
        "        numlen = len(cuadrado_str)  # Obtener la longitud\n",
        "\n",
        "        # Extraer dígitos intermedios\n",
        "        if numlen > 2:\n",
        "            if numlen % 2 == 0:\n",
        "                resul = cuadrado_str[2:-2]\n",
        "            else:\n",
        "                resul = cuadrado_str[1:-2]\n",
        "        else:\n",
        "            resul = cuadrado_str  # Si el número tiene 1 o 2 dígitos, tomamos todo\n",
        "             # Convertimos el resultado a número o detenemos si queda vacío\n",
        "        nuevo_numero = int(resul) if resul else None\n",
        "\n",
        "        # Normalización: n / (n² + 1)\n",
        "        normalizado = round(numero / (cuadrado + 1), 6)  # Redondeamos a seis decimales\n",
        "\n",
        "        # Guardamos en la lista para la tabla\n",
        "        historial.append([iteracion, numero, cuadrado, nuevo_numero, normalizado])\n",
        "\n",
        "        # Actualizamos para la siguiente iteración\n",
        "        numero = nuevo_numero\n",
        "        iteracion += 1\n",
        "\n",
        "    # Imprimir la tabla con los resultados\n",
        "    headers = [\"Iteración\", \"Número Inicial\", \"Cuadrado\", \"Nuevo Número\", \"Normalizado\"]\n",
        "    print(tabulate(historial, headers=headers, tablefmt=\"grid\"))\n",
        "\n",
        "    # Imprimir la longitud del ciclo\n",
        "    print(f\"\\nLongitud del ciclo: {len(historial)}\")\n",
        "\n",
        "    return numero\n",
        "\n",
        "# Número inicial\n",
        "numero_inicial = input(\"Ingrese un número al azar: \")\n",
        "numero_inicial = int(numero_inicial)\n",
        "\n",
        "resultado_final = cudmed(numero_inicial)\n",
        "print(\"\\nResultado final:\", resultado_final)\n",
        "\n",
        "\n"
      ],
      "metadata": {
        "colab": {
          "base_uri": "https://localhost:8080/"
        },
        "id": "55w1v6gqifGw",
        "outputId": "3f932944-39bc-4371-a3af-7803088e615e"
      },
      "execution_count": 7,
      "outputs": [
        {
          "output_type": "stream",
          "name": "stdout",
          "text": [
            "Ingrese un número al azar: 1938\n",
            "+-------------+------------------+------------+----------------+---------------+\n",
            "|   Iteración |   Número Inicial |   Cuadrado |   Nuevo Número |   Normalizado |\n",
            "+=============+==================+============+================+===============+\n",
            "|           1 |             1938 |    3755844 |           7558 |      0.000516 |\n",
            "+-------------+------------------+------------+----------------+---------------+\n",
            "|           2 |             7558 |   57123364 |           1233 |      0.000132 |\n",
            "+-------------+------------------+------------+----------------+---------------+\n",
            "|           3 |             1233 |    1520289 |           5202 |      0.000811 |\n",
            "+-------------+------------------+------------+----------------+---------------+\n",
            "|           4 |             5202 |   27060804 |            608 |      0.000192 |\n",
            "+-------------+------------------+------------+----------------+---------------+\n",
            "|           5 |              608 |     369664 |             96 |      0.001645 |\n",
            "+-------------+------------------+------------+----------------+---------------+\n",
            "|           6 |               96 |       9216 |                |      0.010416 |\n",
            "+-------------+------------------+------------+----------------+---------------+\n",
            "\n",
            "Longitud del ciclo: 6\n",
            "\n",
            "Resultado final: None\n"
          ]
        }
      ]
    }
  ]
}