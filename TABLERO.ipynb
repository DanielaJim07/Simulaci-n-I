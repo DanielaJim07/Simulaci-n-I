{
  "nbformat": 4,
  "nbformat_minor": 0,
  "metadata": {
    "colab": {
      "provenance": [],
      "authorship_tag": "ABX9TyNzJjI7MaFEfLY2OyXjCTdH",
      "include_colab_link": true
    },
    "kernelspec": {
      "name": "python3",
      "display_name": "Python 3"
    },
    "language_info": {
      "name": "python"
    }
  },
  "cells": [
    {
      "cell_type": "markdown",
      "metadata": {
        "id": "view-in-github",
        "colab_type": "text"
      },
      "source": [
        "<a href=\"https://colab.research.google.com/github/DanielaJim07/Simulaci-n-I/blob/main/TABLERO.ipynb\" target=\"_parent\"><img src=\"https://colab.research.google.com/assets/colab-badge.svg\" alt=\"Open In Colab\"/></a>"
      ]
    },
    {
      "cell_type": "markdown",
      "source": [
        "# **Tablero de colores **\n",
        "\n",
        "\n",
        "Supongamos que tenemos un tablero con cuatro sectores de colores. Lanzamos dos monedas y avanzamos, en sentido horario, el número de caras que aparezcan. Si repetimos el procedimiento muchas veces...\n",
        "\n",
        " **¿Son todos los sectores igual de probables cuando pase mucho tiempo?**\n"
      ],
      "metadata": {
        "id": "2MOdxQZ8jUtD"
      }
    },
    {
      "cell_type": "code",
      "execution_count": 4,
      "metadata": {
        "id": "WRg-H_NChmJL"
      },
      "outputs": [],
      "source": [
        "import random\n",
        "import matplotlib.pyplot as plt\n"
      ]
    },
    {
      "cell_type": "code",
      "source": [
        "# Semilla para reproducibilidad\n",
        "random.seed(42)\n",
        "\n",
        "# Número de simulaciones (pasos en el tablero)\n",
        "num_pasos = 100_000\n",
        "\n",
        "# Lista para contar cuántas veces se visita cada sector\n",
        "sectores = [0, 0, 0, 0]\n",
        "\n",
        "# Estado inicial\n",
        "posicion_actual = 0\n"
      ],
      "metadata": {
        "id": "g1mWLQDsiwOq"
      },
      "execution_count": 5,
      "outputs": []
    },
    {
      "cell_type": "code",
      "source": [
        "# Simulación\n",
        "for _ in range(num_pasos):\n",
        "    # Lanzar dos monedas (0 = sol, 1 = águila)\n",
        "    cara1 = 1 if random.random() < 0.5 else 0\n",
        "    cara2 = 1 if random.random() < 0.5 else 0\n",
        "    avance = cara1 + cara2\n",
        "\n",
        "    # Mover en sentido horario\n",
        "    posicion_actual = (posicion_actual + avance) % 4\n",
        "\n",
        "    # Contar la visita al sector\n",
        "    sectores[posicion_actual] += 1\n"
      ],
      "metadata": {
        "id": "9WHOcHR4i4Cq"
      },
      "execution_count": 6,
      "outputs": []
    },
    {
      "cell_type": "code",
      "source": [
        "\n",
        "# Calcular distribución empírica\n",
        "total = sum(sectores)\n",
        "distribucion = [count / total for count in sectores]\n",
        "\n"
      ],
      "metadata": {
        "id": "OjVwn5MTi7BX"
      },
      "execution_count": 7,
      "outputs": []
    },
    {
      "cell_type": "code",
      "source": [
        "#  Resultados\n",
        "print(\"Visitas por sector:\", sectores)\n",
        "print(\"Distribución empírica:\", distribucion)\n",
        "\n",
        "# Graficar\n",
        "plt.bar(['Sector 0', 'Sector 1', 'Sector 2', 'Sector 3'], distribucion, color='lightgreen')\n",
        "plt.title(f'Distribución empírica tras {num_pasos:,} pasos')\n",
        "plt.ylabel('Probabilidad estimada')\n",
        "plt.grid(axis='y')\n",
        "plt.show()"
      ],
      "metadata": {
        "colab": {
          "base_uri": "https://localhost:8080/",
          "height": 488
        },
        "id": "E-QaUW-Ai9F7",
        "outputId": "7b3d311a-6d46-41cd-eac4-41c1577e9a7d"
      },
      "execution_count": 8,
      "outputs": [
        {
          "output_type": "stream",
          "name": "stdout",
          "text": [
            "Visitas por sector: [24895, 24948, 25260, 24897]\n",
            "Distribución empírica: [0.24895, 0.24948, 0.2526, 0.24897]\n"
          ]
        },
        {
          "output_type": "display_data",
          "data": {
            "text/plain": [
              "<Figure size 640x480 with 1 Axes>"
            ],
            "image/png": "[encoded data removed]"
          },
          "metadata": {}
        }
      ]
    },
    {
      "cell_type": "markdown",
      "source": [
        "Se realizó una simulación del juego para simular lanzamientos de dos monedas en cada paso. Cada resultado determina cuántas posiciones se avanza en el tablero circular de 4 sectores. Después de 100,000 tiradas, se calcula cuántas veces se visitó cada sector y se estima su probabilidad relativa.\n",
        "\n",
        "Los resultados muestran que, en el largo plazo, la distribución tiende a ser uniforme:\n",
        "\n",
        "$$\\pi \\approx \\left[\\frac{1}{4}, \\frac{1}{4}, \\frac{1}{4}, \\frac{1}{4}\\right]$$\n",
        "\n",
        "Esto respalda la conclusión analítica: todos los sectores son igual de probables después de mucho tiempo."
      ],
      "metadata": {
        "id": "69AsgboGiX1v"
      }
    },
    {
      "cell_type": "markdown",
      "source": [
        "#SOLUCION ANALITICA\n",
        "## Solución analítica por medio de cadenas de Markov\n",
        "\n",
        "### Variable de estado\n",
        "\n",
        "La variable de estado es la **posición de la ficha**. Las posibles posiciones son:\n",
        "\n",
        "- **Rojo**\n",
        "- **Naranja**\n",
        "- **Azul**\n",
        "- **Verde**\n",
        "\n",
        "Los posibles estados después de un movimiento se representan como pares:\n",
        "\n",
        "- `C C`, `C X`, `X C`, `X X`\n",
        "\n",
        "Cada uno con la siguiente probabilidad:\n",
        "\n",
        "$$\n",
        "p = \\begin{cases}\n",
        "\\frac{1}{4} & \\text{(C C)} \\\\\n",
        "\\frac{1}{2} & \\text{(C X, X C)} \\\\\n",
        "\\frac{1}{4} & \\text{(X X)}\n",
        "\\end{cases}\n",
        "$$\n",
        "\n",
        "---\n",
        "\n",
        "### Definimos\n",
        "\n",
        "Denotamos:\n",
        "\n",
        "- $ X_n $: Probabilidad de estar en el sector **naranja** después de \\( n \\) lanzamientos.  \n",
        "- $ Y_n $: Probabilidad de estar en el sector **azul** después de \\( n \\) lanzamientos.  \n",
        "- $ Z_n $: Probabilidad de estar en el sector **verde** después de \\( n \\) lanzamientos.  \n",
        "- $ T_n $: Probabilidad de estar en el sector **rojo** después de \\( n \\) lanzamientos.  \n",
        "\n",
        "---\n",
        "\n",
        "### Teorema de la Probabilidad Total\n",
        "\n",
        "$$\n",
        "P(A) = P(A \\cap B_1) + P(A \\cap B_2) + \\ldots + P(A \\cap B_n)\n",
        "$$\n",
        "\n",
        "Por ejemplo, para $ X_1 = P(\\text{Naranja}) $:\n",
        "\n",
        "$$\n",
        "X_1 = P(\\text{Naranja}|\\text{Naranja}) P(\\text{Naranja})\n",
        "+ P(\\text{Naranja}|\\text{Azul}) P(\\text{Azul})\n",
        "+ P(\\text{Naranja}|\\text{Verde}) P(\\text{Verde})\n",
        "+ P(\\text{Naranja}|\\text{Rojo}) P(\\text{Rojo})\n",
        "$$\n",
        "\n",
        "Sustituyendo:\n",
        "\n",
        "$$\n",
        "X_1 = \\frac{1}{4} X_0 + 0 \\cdot Y_0 + \\frac{1}{4} Z_0 + \\frac{1}{2} T_0\n",
        "$$\n",
        "\n",
        "De forma similar:\n",
        "\n",
        "$$\n",
        "Y_1 = \\frac{1}{2} X_0 + \\frac{1}{4} Y_0 + 0 \\cdot Z_0 + \\frac{1}{4} T_0\n",
        "$$\n",
        "\n",
        "$$\n",
        "Z_1 = \\frac{1}{4} X_0 + \\frac{1}{2} Y_0 + \\frac{1}{4} Z_0 + 0 \\cdot T_0\n",
        "$$\n",
        "\n",
        "$$\n",
        "T_1 = 0 \\cdot X_0 + \\frac{1}{4} Y_0 + \\frac{1}{2} Z_0 + \\frac{1}{4} T_0\n",
        "$$\n",
        "\n",
        "---\n",
        "\n",
        "### Para $ n = 2 $\n",
        "\n",
        "$$\n",
        "\\begin{aligned}\n",
        "X_2 &= \\frac{1}{4} X_1 + 0 \\cdot Y_1 + \\frac{1}{4} Z_1 + \\frac{1}{2} T_1 \\\\\n",
        "Y_2 &= \\frac{1}{2} X_1 + \\frac{1}{4} Y_1 + 0 \\cdot Z_1 + \\frac{1}{4} T_1 \\\\\n",
        "Z_2 &= \\frac{1}{4} X_1 + \\frac{1}{4} Y_1 + \\frac{1}{4} Z_1 + 0 \\cdot T_1 \\\\\n",
        "T_2 &= 0 \\cdot X_1 + \\frac{1}{4} Y_1 + \\frac{1}{2} Z_1 + \\frac{1}{4} T_1\n",
        "\\end{aligned}\n",
        "$$\n",
        "\n",
        "---\n",
        "\n",
        "### Forma matricial\n",
        "\n",
        "$$\n",
        "\\begin{pmatrix}\n",
        "X_n \\\\\n",
        "Y_n \\\\\n",
        "Z_n \\\\\n",
        "T_n \\\\\n",
        "\\end{pmatrix}\n",
        "=\n",
        "\\begin{pmatrix}\n",
        "\\frac{1}{4} & 0 & \\frac{1}{4} & \\frac{1}{2} \\\\\n",
        "\\frac{1}{2} & \\frac{1}{4} & 0 & \\frac{1}{4} \\\\\n",
        "\\frac{1}{4} & \\frac{1}{2} & \\frac{1}{4} & 0 \\\\\n",
        "0 & \\frac{1}{4} & \\frac{1}{2} & \\frac{1}{4}\n",
        "\\end{pmatrix}\n",
        "\\begin{pmatrix}\n",
        "X_{n-1} \\\\\n",
        "Y_{n-1} \\\\\n",
        "Z_{n-1} \\\\\n",
        "T_{n-1}\n",
        "\\end{pmatrix}\n",
        "$$\n",
        "\n",
        "---\n",
        "\n",
        "### Simplificación:\n",
        "\n",
        "$$\n",
        "\\mathbf{X}_n = A \\cdot \\mathbf{X}_{n-1} = A^2 \\cdot \\mathbf{X}_{n-2} = \\dots = A^n \\cdot \\mathbf{X}_0\n",
        "$$\n",
        "\n"
      ],
      "metadata": {
        "id": "RI6ss1ismz9H"
      }
    },
    {
      "cell_type": "code",
      "source": [
        "import numpy as np\n",
        "\n",
        "# Definimos la matriz de transición A\n",
        "A = np.array([\n",
        "    [1/4, 0,   1/4, 1/2],\n",
        "    [1/2, 1/4, 0,   1/4],\n",
        "    [1/4, 1/2, 1/4, 0],\n",
        "    [0,   1/4, 1/2, 1/4]\n",
        "])\n",
        "\n",
        "# Estado inicial: la ficha empieza en NARANJA\n",
        "# Vector: [P(Naranja), P(Azul), P(Verde), P(Rojo)]\n",
        "X0 = np.array([1, 0, 0, 0])  # 100% en naranja\n",
        "\n",
        "# Número de pasos (lanzamientos)\n",
        "n = 10\n",
        "\n",
        "# Evolucionamos la cadena de Markov\n",
        "Xn = np.linalg.matrix_power(A, n) @ X0\n",
        "\n",
        "# Mostramos el resultado\n",
        "etiquetas = ['Naranja', 'Azul', 'Verde', 'Rojo']\n",
        "for i, p in enumerate(Xn):\n",
        "    print(f\"Probabilidad de estar en {etiquetas[i]} después de {n} lanzamientos: {p:.4f}\")\n"
      ],
      "metadata": {
        "colab": {
          "base_uri": "https://localhost:8080/"
        },
        "id": "C1cbHycjm5vx",
        "outputId": "db0f1f36-1c65-4574-bc8b-3a3e4d7f7ad7"
      },
      "execution_count": 10,
      "outputs": [
        {
          "output_type": "stream",
          "name": "stdout",
          "text": [
            "Probabilidad de estar en Naranja después de 10 lanzamientos: 0.2495\n",
            "Probabilidad de estar en Azul después de 10 lanzamientos: 0.2500\n",
            "Probabilidad de estar en Verde después de 10 lanzamientos: 0.2505\n",
            "Probabilidad de estar en Rojo después de 10 lanzamientos: 0.2500\n"
          ]
        }
      ]
    }
  ]
}