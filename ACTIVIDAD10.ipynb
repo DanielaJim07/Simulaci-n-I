{
  "nbformat": 4,
  "nbformat_minor": 0,
  "metadata": {
    "colab": {
      "provenance": [],
      "authorship_tag": "ABX9TyMGUV5ev3GIU1a55aoCv62d",
      "include_colab_link": true
    },
    "kernelspec": {
      "name": "python3",
      "display_name": "Python 3"
    },
    "language_info": {
      "name": "python"
    }
  },
  "cells": [
    {
      "cell_type": "markdown",
      "metadata": {
        "id": "view-in-github",
        "colab_type": "text"
      },
      "source": [
        "<a href=\"https://colab.research.google.com/github/DanielaJim07/Simulaci-n-I/blob/main/ACTIVIDAD10.ipynb\" target=\"_parent\"><img src=\"https://colab.research.google.com/assets/colab-badge.svg\" alt=\"Open In Colab\"/></a>"
      ]
    },
    {
      "cell_type": "markdown",
      "source": [
        "#ACTIVIAD 10"
      ],
      "metadata": {
        "id": "dB4hq25_HNMM"
      }
    },
    {
      "cell_type": "markdown",
      "source": [
        "Dos personas han quedado citas en un determinado lugar. Ambas tienen la misma\n",
        "probabilidad de llegar al lugar de la cita en el intervalo de tiempo [0, 30] (minutos).\n",
        "Determínese la probabilidad de que el tiempo que una persona espere a la otra sea\n",
        "como máximo 10 minutos."
      ],
      "metadata": {
        "id": "i0qwdHbZDLSf"
      }
    },
    {
      "cell_type": "markdown",
      "source": [
        "##simulación"
      ],
      "metadata": {
        "id": "uRH--gwIHUGI"
      }
    },
    {
      "cell_type": "code",
      "source": [
        "import numpy as np\n",
        "import matplotlib.pyplot as plt"
      ],
      "metadata": {
        "id": "0JAvL6qRC7dq"
      },
      "execution_count": 5,
      "outputs": []
    },
    {
      "cell_type": "code",
      "source": [
        "N = 100_000            # Número de simulaciones a realizar\n",
        "tiempo_max = 30        # Tiempo máximo de llegada en minutos\n",
        "espera_max = 10        # Tiempo máximo que una persona puede esperar a la otra"
      ],
      "metadata": {
        "id": "NQpNmEW9DX58"
      },
      "execution_count": 2,
      "outputs": []
    },
    {
      "cell_type": "code",
      "execution_count": 8,
      "metadata": {
        "id": "a93-lqvNCflC"
      },
      "outputs": [],
      "source": [
        "# Generaramos los tiempos aleatorios\n",
        "persona1 = np.random.uniform(0, tiempo_max, N)  # Llegadas de la persona 1\n",
        "persona2 = np.random.uniform(0, tiempo_max, N)  # Llegadas de la persona 2\n",
        "\n",
        "# El tiempo de espera de una persona a otra seria la resta entre los tiempos\n",
        "tiempoespera = np.abs(persona1 - persona2)\n",
        "\n",
        "#Cuenta de las eveces que el tiempo de espera es menor a 10 minutos\n",
        "tiempo10 = np.sum(tiempoespera <= espera_max)\n",
        "\n",
        "# Obtenemos la probabilidad\n",
        "proba = tiempo10 / N\n",
        "\n"
      ]
    },
    {
      "cell_type": "code",
      "source": [
        "print(f\"Probabilidad: {probabilidad_simulada:.4f}\")"
      ],
      "metadata": {
        "colab": {
          "base_uri": "https://localhost:8080/"
        },
        "id": "3sPQ5B-aHcpG",
        "outputId": "1e3e3846-7f8f-41f9-ec3a-32a235dc083b"
      },
      "execution_count": 9,
      "outputs": [
        {
          "output_type": "stream",
          "name": "stdout",
          "text": [
            "Probabilidad: 0.5553\n"
          ]
        }
      ]
    },
    {
      "cell_type": "markdown",
      "source": [
        "#SOLUCION ANALITICA"
      ],
      "metadata": {
        "id": "9b-cVDteGMVn"
      }
    },
    {
      "cell_type": "markdown",
      "source": [
        "### 🔍 Solución analítica del problema\n",
        "\n",
        "Sea $X \\sim U(0,30)$ y $Y \\sim U(0,30)$ los tiempos de llegada de las dos personas, de manera independiente. Queremos encontrar la probabilidad de que el tiempo de espera entre una y otra sea como máximo 10 minutos, es decir:\n",
        "\n",
        "$$\n",
        "P(|X - Y| \\leq 10)\n",
        "$$\n",
        "\n",
        "Esto se puede interpretar como el área de una región dentro del cuadrado $[0,30] \\times [0,30]$, que representa todas las posibles combinaciones de llegadas. El área total del cuadrado es:\n",
        "\n",
        "$$\n",
        "A_{\\text{total}} = 30 \\times 30 = 900\n",
        "$$\n",
        "\n",
        "La región favorable está delimitada por las rectas:\n",
        "\n",
        "$$\n",
        "X - Y = -10 \\quad \\text{y} \\quad X - Y = 10\n",
        "$$\n",
        "\n",
        "Lo cual forma una banda alrededor de la diagonal $X = Y$. Fuera de esa banda hay dos triángulos simétricos, cada uno con base y altura de 20 unidades:\n",
        "\n",
        "$$\n",
        "A_{\\text{triángulo}} = \\frac{1}{2} \\cdot 20 \\cdot 20 = 200\n",
        "$$\n",
        "\n",
        "Entonces, el área favorable es:\n",
        "\n",
        "$$\n",
        "A_{\\text{favorable}} = 900 - 2 \\cdot 200 = 500\n",
        "$$\n",
        "\n",
        "Finalmente, la probabilidad buscada es:\n",
        "\n",
        "$$\n",
        "P(|X - Y| \\leq 10) = \\frac{500}{900} = \\frac{5}{9} \\approx 0.5556\n",
        "$$\n",
        "\n",
        "Esto significa que en aproximadamente el **55.56%** de los casos, la espera entre las dos personas será de **10 minutos o menos**.\n"
      ],
      "metadata": {
        "id": "5hbzWCyGG2GQ"
      }
    }
  ]
}