{
  "nbformat": 4,
  "nbformat_minor": 0,
  "metadata": {
    "colab": {
      "provenance": [],
      "authorship_tag": "ABX9TyNVqSt0K4PWdWOIfzu0hZge",
      "include_colab_link": true
    },
    "kernelspec": {
      "name": "python3",
      "display_name": "Python 3"
    },
    "language_info": {
      "name": "python"
    }
  },
  "cells": [
    {
      "cell_type": "markdown",
      "metadata": {
        "id": "view-in-github",
        "colab_type": "text"
      },
      "source": [
        "<a href=\"https://colab.research.google.com/github/DanielaJim07/Simulaci-n-I/blob/main/Prueba_de_Rachas.ipynb\" target=\"_parent\"><img src=\"https://colab.research.google.com/assets/colab-badge.svg\" alt=\"Open In Colab\"/></a>"
      ]
    },
    {
      "cell_type": "markdown",
      "source": [
        "# PRUEBA DE RACHAS\n",
        "La Prueba de Rachas es una prueba estadística no paramétrica utilizada para evaluar la independencia y aleatoriedad de una secuencia de datos. Su objetivo principal es determinar si los valores en una muestra ocurren en un orden aleatorio o si siguen algún patrón predecible."
      ],
      "metadata": {
        "id": "GPyLcJExYFCw"
      }
    },
    {
      "cell_type": "markdown",
      "source": [
        "## Ejemplo:\n",
        "De la lista de 25 datos, hacer la prueba de rachas con un nivel de acptacion del 95%"
      ],
      "metadata": {
        "id": "ARRGjW4SYgAj"
      }
    },
    {
      "cell_type": "code",
      "execution_count": 13,
      "metadata": {
        "id": "Bc43HPMTn8Ol"
      },
      "outputs": [],
      "source": [
        "import numpy as np\n",
        "from scipy.stats import norm\n",
        "\n"
      ]
    },
    {
      "cell_type": "code",
      "source": [
        "# Datos dados\n",
        "data =np.array ([ 0.048, 0.926, 0.368, 0.787, 0.298, 0.591, 0.007, 0.437, 0.594, 0.199,\n",
        "                  0.478, 0.551, 0.178, 0.086, 0.157, 0.166, 0.362, 0.411, 0.951, 0.401,\n",
        "                  0.932, 0.533, 0.545, 0.772, 0.631])\n",
        "\n",
        "# Función para generar la secuencia de 0 y 1\n",
        "def generar_secuencia(data):\n",
        "    secuencia = np.zeros(len(data), dtype=int)\n",
        "    for i in range(1, len(data)-1):\n",
        "        if data[i] < data[i - 1]:\n",
        "            secuencia[i] = 0\n",
        "        elif data[i] > data[i + 1]:\n",
        "            secuencia[i] = 1\n",
        "    return secuencia\n",
        "\n",
        "# Generar la secuencia de 0 y 1\n",
        "secuencia_binaria = generar_secuencia(data)\n",
        "\n",
        "# Contar el número de corridas\n",
        "def contar_corridas(secuencia):\n",
        "    corridas = 0\n",
        "    for i in range(0, len(secuencia)):\n",
        "        if secuencia[i] != secuencia[i - 1]:  # Cambio de 0 a 1 o viceversa\n",
        "            corridas += 1\n",
        "    return corridas\n",
        "\n",
        "# Calcular el número de corridas\n",
        "num_corridas = contar_corridas(secuencia_binaria)\n",
        "\n",
        "# Calcular proporciones de 0s y 1s\n",
        "n0 = np.sum(secuencia_binaria == 0)\n",
        "n1 = np.sum(secuencia_binaria == 1)\n",
        "N = len(secuencia_binaria)\n",
        "\n",
        "# Calcular el valor esperado y la varianza de las corridas\n",
        "valor_esperado = ((2 * N / 3))\n",
        "varianza = ((16*N-29 ) / 90)\n",
        "var= np.sqrt(varianza)\n",
        "\n",
        "\n",
        "# Calcular estadístico Z0\n",
        "z0 = (num_corridas - valor_esperado) / var\n",
        "\n",
        "\n",
        "# Calcular el intervalo de aceptación para 95% de confianza\n",
        "alpha = 0.05  # Nivel de significancia (5%)\n",
        "z_alpha = norm.ppf(1 - alpha / 2)  # Z crítico para 95% (prueba bilateral)\n",
        "  # Valor z para 95% de confianza\n",
        "lim_inf = valor_esperado - z_alpha * np.sqrt(varianza)\n",
        "lim_sup =  valor_esperado + z_alpha * np.sqrt(varianza)\n",
        "\n",
        "intervalo_critico = [-z_alpha, z_alpha]\n",
        "# Decisión\n",
        "if z0 < -z_alpha or z0 > z_alpha:\n",
        "    decision = \"Se rechaza la hipótesis de independencia.\"\n",
        "else:\n",
        "    decision = \"No se rechaza la hipótesis de independencia.\"\n",
        "\n",
        "\n",
        "\n"
      ],
      "metadata": {
        "id": "LchGqFzHY5gf"
      },
      "execution_count": 14,
      "outputs": []
    },
    {
      "cell_type": "code",
      "source": [
        "# Imprimir resultados\n",
        "print(\"Corridas:\", num_corridas,\", Mco:\", valor_esperado,\", σ:\", var,\", Alpha:\",z_alpha,\", Z0\",z0,\", Intervalo:\", intervalo_critico)\n",
        "print(decision)"
      ],
      "metadata": {
        "colab": {
          "base_uri": "https://localhost:8080/"
        },
        "id": "I0Dq7FpTY73D",
        "outputId": "e7f838c6-4b3c-4c05-f034-ec8785d89e4a"
      },
      "execution_count": 18,
      "outputs": [
        {
          "output_type": "stream",
          "name": "stdout",
          "text": [
            "Corridas: 16 , Mco: 16.666666666666668 , σ: 2.030325644378808 , Alpha: 1.959963984540054 , Z0 -0.32835455165155986 , Intervalo: [np.float64(-1.959963984540054), np.float64(1.959963984540054)]\n",
            "No se rechaza la hipótesis de independencia.\n"
          ]
        }
      ]
    },
    {
      "cell_type": "markdown",
      "source": [
        "## Aplicaciones\n",
        "\n",
        "\n",
        "* En pruebas de números aleatorios, para verificar si una secuencia es realmente aleatoria.\n",
        "*  En series temporales, para comprobar si hay dependencia entre observaciones consecutivas.\n",
        "* En control de calidad, para detectar patrones no deseados en los procesos de producción.\n",
        "\n"
      ],
      "metadata": {
        "id": "0f0vQuueY-aj"
      }
    }
  ]
}